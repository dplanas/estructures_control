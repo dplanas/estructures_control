{
 "cells": [
  {
   "cell_type": "markdown",
   "id": "fdb0a3ee",
   "metadata": {},
   "source": [
    "![Images](Images/ITAcademy.png)\n",
    "# DATA SCIENCE: S02.T03\n",
    "#### Created by: Dani Planas Montserrat\n"
   ]
  },
  {
   "cell_type": "code",
   "execution_count": 21,
   "id": "beb6ddc4",
   "metadata": {
    "run_control": {
     "marked": true
    }
   },
   "outputs": [
    {
     "name": "stdout",
     "output_type": "stream",
     "text": [
      "Introduiu la nota (0-10):  6.9\n",
      "La teva qualificació és:  Aprovat\n"
     ]
    }
   ],
   "source": [
    "##########################################################################\n",
    "##           DATA SCIENCE: S02.T03: Nivell 1 Exercici 1                 ##\n",
    "##########################################################################\n",
    "# Exercici 1: L'exercici consisteix a crear un programa que et classifiqui \n",
    "# una variable numèrica en funció de l’escala Suspès/Aprovat/Notable/Excel·lent.\n",
    "\n",
    "## create Variables\n",
    "num=0\n",
    "numString=''\n",
    "qual=''\n",
    "\n",
    "#Request a value from the User\n",
    "numString=input('Introduiu la nota (0-10):  ')\n",
    "num=float(numString)\n",
    "\n",
    "#Check whats is the user qualification \n",
    "if  (num < 5):\n",
    "  qual='Suspès'\n",
    "elif (num >= 5) and (num<7):\n",
    "  qual='Aprovat'\n",
    "elif (num >= 7) and (num<9):\n",
    "  qual='Notable'\n",
    "elif (num >= 9) and (num<=10):\n",
    "  qual='Excel·lent'\n",
    "elif (num < 0) or (num > 10):\n",
    "  qual='error'   \n",
    "\n",
    "#Print Result\n",
    "print('La teva qualificació és: ', qual)"
   ]
  },
  {
   "cell_type": "code",
   "execution_count": 27,
   "id": "a75fd4e5",
   "metadata": {
    "code_folding": []
   },
   "outputs": [
    {
     "name": "stdout",
     "output_type": "stream",
     "text": [
      "Introduiu el PRIMER valor:  3\n",
      "Introduiu el SEGON valor:  3\n",
      "El valor 1 és IGUAL que el valor 2  (V1=V2)\n"
     ]
    }
   ],
   "source": [
    "##########################################################################\n",
    "##           DATA SCIENCE: S02.T03: Nivell 1 Exercici 2                 ##\n",
    "##########################################################################\n",
    "# Exercici 2: Utilitzant el següent tutorial Programiz: Python Input, \n",
    "# Output and Import crea un programa que et pregunti dos números.T’ha de \n",
    "# mostrar un missatge dient si el primer és més gran, el segon és més gran\n",
    "# o són iguals.\n",
    "\n",
    "## create Variables\n",
    "value1, value2 = 0, 0\n",
    "result=''\n",
    "\n",
    "#Request a value from the User\n",
    "value1=float(input('Introduiu el PRIMER valor:  '))\n",
    "value2=float(input('Introduiu el SEGON valor:  '))\n",
    "\n",
    "#Check whats is the user qualification \n",
    "if  (value1 > value2):\n",
    "  result='El valor 1 és més GRAN que valor 2  (V1>V2)'\n",
    "elif (value1 < value2):\n",
    "  result='El valor 1 és més PETIT que valor 2  (V1<V2)'\n",
    "else:\n",
    "  result='El valor 1 és IGUAL que el valor 2  (V1=V2)'   \n",
    "\n",
    "#Print Result\n",
    "print(result)"
   ]
  },
  {
   "cell_type": "code",
   "execution_count": 35,
   "id": "7f7a2fc3",
   "metadata": {},
   "outputs": [
    {
     "name": "stdout",
     "output_type": "stream",
     "text": [
      "Introdueix el teu Nom:  marc\n",
      "Quantes vegades el voleu repetir?  6\n",
      "marc marc marc marc marc marc \n"
     ]
    }
   ],
   "source": [
    "##########################################################################\n",
    "##           DATA SCIENCE: S02.T03: Nivell 1 Exercici 3                 ##\n",
    "##########################################################################\n",
    "# Exercici 3: Crea un programa que et pregunti el teu nom, i et demani un \n",
    "# número. Si el número és 0, hauria de mostrar un missatge d’error. En cas\n",
    "# contrari,hauria de mostrar el nom repetit tants cops com indiqui el número. \n",
    "# Per exemple, “Joan Joan Joan”.\n",
    "\n",
    "## create Variables\n",
    "num = 0\n",
    "name=''\n",
    "result=''\n",
    "#Request a value from the User\n",
    "name = input('Introdueix el teu Nom:  ')\n",
    "num  = int(input('Quantes vegades el voleu repetir?  '))\n",
    "\n",
    "#Print Result\n",
    "print((name + ' ')*num)"
   ]
  },
  {
   "cell_type": "code",
   "execution_count": 30,
   "id": "4d27e988",
   "metadata": {
    "run_control": {
     "marked": true
    }
   },
   "outputs": [
    {
     "name": "stdout",
     "output_type": "stream",
     "text": [
      "Llista 1             [3, 2, 1, 1, 2, 3]\n",
      "Llista 1 invertida:  [3, 2, 1, 1, 2, 3]\n",
      "Si, és simétrica. Té 6 elements\n"
     ]
    }
   ],
   "source": [
    "##########################################################################\n",
    "##           DATA SCIENCE: S02.T03: Nivell 1 Exercici 4                 ##\n",
    "##########################################################################\n",
    "# Exercici 4: Crea un programa que donada una llista qualsevol, et digui \n",
    "# si es simètrica o no. Si ho és, que et digui quants elements té.\n",
    "\n",
    "## create Variables\n",
    "myList1 = [3,2,1,1,2,3]\n",
    "myList2 = [0,0,0,0,0,0]\n",
    "\n",
    "# Invert the List\n",
    "for i in range (len(myList1)):\n",
    "    myList2[i] = myList1[i]\n",
    " \n",
    "myList1.reverse()\n",
    "print ('Llista 1            ', myList1)\n",
    "print ('Llista 1 invertida: ', myList2)\n",
    "\n",
    "if myList1 != myList2:\n",
    "        print (\"No, és simétrica\")\n",
    "else:\n",
    "        print (\"Si, és simétrica. Té\", len(myList1),\"elements\")\n",
    "        \n"
   ]
  },
  {
   "cell_type": "code",
   "execution_count": 48,
   "id": "843bf48d",
   "metadata": {
    "run_control": {
     "marked": true
    }
   },
   "outputs": [
    {
     "name": "stdout",
     "output_type": "stream",
     "text": [
      "Els números que coincideixen amb la seva posició són: 3 6 8 \n"
     ]
    }
   ],
   "source": [
    "##########################################################################\n",
    "##           DATA SCIENCE: S02.T03: Nivell 1 Exercici 5                 ##\n",
    "##########################################################################\n",
    "# Exercici 5: Crea un programa que donada una llista, et digui quants números \n",
    "# coincideixen amb la seva posició. Per exemple [3,4,2,0,2,3,6] el 2 i el 6 \n",
    "# coincideixen.\n",
    "\n",
    "## create Variables\n",
    "myList1 = [3,8,1,3,2,3,6,0,8,11]\n",
    "result=''\n",
    "\n",
    "result=checkList(myList1)\n",
    "print ('Els números que coincideixen amb la seva posició són:' , result)\n",
    "\n",
    "\n",
    "#***********    Functions   *************\n",
    "def checkList(inList):\n",
    "    txtResult=''\n",
    "    for i in range (len(inList)):\n",
    "        \n",
    "        if (i== inList[i]):\n",
    "            txtResult += str(i) + \" \"\n",
    "    return txtResult\n",
    "\n",
    "\n"
   ]
  },
  {
   "cell_type": "code",
   "execution_count": null,
   "id": "4952edee",
   "metadata": {},
   "outputs": [],
   "source": []
  }
 ],
 "metadata": {
  "hide_input": false,
  "kernelspec": {
   "display_name": "Python 3 (ipykernel)",
   "language": "python",
   "name": "python3"
  },
  "language_info": {
   "codemirror_mode": {
    "name": "ipython",
    "version": 3
   },
   "file_extension": ".py",
   "mimetype": "text/x-python",
   "name": "python",
   "nbconvert_exporter": "python",
   "pygments_lexer": "ipython3",
   "version": "3.9.7"
  },
  "nbTranslate": {
   "displayLangs": [
    "*"
   ],
   "hotkey": "alt-t",
   "langInMainMenu": true,
   "sourceLang": "en",
   "targetLang": "fr",
   "useGoogleTranslate": true
  },
  "toc": {
   "base_numbering": 1,
   "nav_menu": {},
   "number_sections": true,
   "sideBar": true,
   "skip_h1_title": false,
   "title_cell": "Table of Contents",
   "title_sidebar": "Contents",
   "toc_cell": false,
   "toc_position": {},
   "toc_section_display": true,
   "toc_window_display": false
  },
  "varInspector": {
   "cols": {
    "lenName": 16,
    "lenType": 16,
    "lenVar": 40
   },
   "kernels_config": {
    "python": {
     "delete_cmd_postfix": "",
     "delete_cmd_prefix": "del ",
     "library": "var_list.py",
     "varRefreshCmd": "print(var_dic_list())"
    },
    "r": {
     "delete_cmd_postfix": ") ",
     "delete_cmd_prefix": "rm(",
     "library": "var_list.r",
     "varRefreshCmd": "cat(var_dic_list()) "
    }
   },
   "types_to_exclude": [
    "module",
    "function",
    "builtin_function_or_method",
    "instance",
    "_Feature"
   ],
   "window_display": false
  }
 },
 "nbformat": 4,
 "nbformat_minor": 5
}
